{
 "cells": [
  {
   "cell_type": "code",
   "execution_count": 41,
   "metadata": {},
   "outputs": [],
   "source": [
    "import sys\n",
    "\n",
    "sys.path.insert(0, \"../..\")\n",
    "from pathlib import Path\n",
    "from src.data import dataloader\n",
    "from src.data import make_dataset"
   ]
  },
  {
   "cell_type": "code",
   "execution_count": 42,
   "metadata": {},
   "outputs": [
    {
     "name": "stderr",
     "output_type": "stream",
     "text": [
      "2022-06-12 13:46:43.183 | INFO     | src.data.make_dataset:get_eeg:18 - Data is downloaded to ../../data/raw/datasets/eeg.\n"
     ]
    }
   ],
   "source": [
    "eegPath = make_dataset.get_eeg()"
   ]
  },
  {
   "cell_type": "code",
   "execution_count": 43,
   "metadata": {},
   "outputs": [
    {
     "name": "stdout",
     "output_type": "stream",
     "text": [
      "24\n"
     ]
    }
   ],
   "source": [
    "dataset = dataloader.BaseDataset(datapath = eegPath) #make dataset\n",
    "print(len(dataset))"
   ]
  },
  {
   "cell_type": "code",
   "execution_count": 44,
   "metadata": {},
   "outputs": [
    {
     "data": {
      "text/plain": [
       "torch.Size([188, 14])"
      ]
     },
     "execution_count": 44,
     "metadata": {},
     "output_type": "execute_result"
    }
   ],
   "source": [
    "dataset.__getitem__(0)[0].shape #get shape of 1st item "
   ]
  },
  {
   "cell_type": "markdown",
   "metadata": {},
   "source": [
    "First the BaseDataIterator is used. This iterator automatically changes the window size if its larger than the smallest chunck in BaseDataSet. It also takes another chunck if the chunck does not have enough lines. For these reasons we always have the same shape tensors in one batch. The downside is that we throw away information by doing this."
   ]
  },
  {
   "cell_type": "code",
   "execution_count": 45,
   "metadata": {},
   "outputs": [
    {
     "data": {
      "text/plain": [
       "torch.Size([32, 10, 14])"
      ]
     },
     "execution_count": 45,
     "metadata": {},
     "output_type": "execute_result"
    }
   ],
   "source": [
    "loader = dataloader.BaseDataIterator(dataset = dataset, window_size=10, batchsize=32)\n",
    "iterator = iter(loader)\n",
    "batch = next(loader)\n",
    "batch[0].shape"
   ]
  },
  {
   "cell_type": "markdown",
   "metadata": {},
   "source": [
    "If trying to use a window size of 21, the BaseDataIterator will tell and set to 21:"
   ]
  },
  {
   "cell_type": "code",
   "execution_count": 49,
   "metadata": {},
   "outputs": [
    {
     "name": "stdout",
     "output_type": "stream",
     "text": [
      "Maximum window length is 21, setting window length to 21. Use PaddedDataIterator for bigger window size\n"
     ]
    },
    {
     "data": {
      "text/plain": [
       "torch.Size([32, 21, 14])"
      ]
     },
     "execution_count": 49,
     "metadata": {},
     "output_type": "execute_result"
    }
   ],
   "source": [
    "loader = dataloader.BaseDataIterator(dataset = dataset, window_size=25, batchsize=32)\n",
    "iterator = iter(loader)\n",
    "batch = next(loader)\n",
    "batch[0].shape\n"
   ]
  },
  {
   "cell_type": "code",
   "execution_count": 50,
   "metadata": {},
   "outputs": [
    {
     "data": {
      "text/plain": [
       "(tensor([[[4312.3101, 4022.0500, 4278.4600,  ..., 4284.6201, 4612.3101,\n",
       "           4368.2100],\n",
       "          [4304.1001, 4016.9199, 4273.8501,  ..., 4282.5601, 4606.1499,\n",
       "           4364.1001],\n",
       "          [4303.0801, 4016.9199, 4270.7700,  ..., 4276.9199, 4602.0498,\n",
       "           4362.5601],\n",
       "          ...,\n",
       "          [4277.4399, 3990.7700, 4246.6699,  ..., 4257.9502, 4591.7900,\n",
       "           4339.4902],\n",
       "          [4284.6201, 3991.7900, 4251.2798,  ..., 4267.1802, 4596.4102,\n",
       "           4350.7700],\n",
       "          [4287.6899, 3997.4399, 4260.0000,  ..., 4274.3599, 4597.9502,\n",
       "           4350.7700]],\n",
       " \n",
       "         [[4238.4600, 3994.3601, 4236.9199,  ..., 4253.8501, 4533.3301,\n",
       "           4261.5400],\n",
       "          [4229.7402, 3989.2300, 4234.3599,  ..., 4248.7202, 4530.2598,\n",
       "           4255.3799],\n",
       "          [4224.6201, 3990.2600, 4232.3101,  ..., 4245.6401, 4527.1802,\n",
       "           4250.7700],\n",
       "          ...,\n",
       "          [4241.0298, 4007.1799, 4233.8501,  ..., 4246.6699, 4541.0298,\n",
       "           4284.6201],\n",
       "          [4244.1001, 4004.6201, 4233.8501,  ..., 4245.6401, 4543.0801,\n",
       "           4279.4902],\n",
       "          [4239.4902, 3997.9500, 4236.4102,  ..., 4249.2300, 4541.0298,\n",
       "           4289.2300]],\n",
       " \n",
       "         [[4263.5898, 3979.4900, 4238.9702,  ..., 4260.0000, 4601.5400,\n",
       "           4338.4600],\n",
       "          [4263.0801, 3978.4600, 4239.4902,  ..., 4260.0000, 4604.1001,\n",
       "           4341.0298],\n",
       "          [4259.4902, 3974.3601, 4234.3599,  ..., 4262.5601, 4600.5098,\n",
       "           4338.9702],\n",
       "          ...,\n",
       "          [4279.4902, 3997.9500, 4250.7700,  ..., 4282.0498, 4614.8701,\n",
       "           4351.2798],\n",
       "          [4272.3101, 3996.4099, 4248.2100,  ..., 4278.4600, 4616.4102,\n",
       "           4344.6201],\n",
       "          [4271.2798, 3999.4900, 4249.7402,  ..., 4280.0000, 4618.4600,\n",
       "           4347.1802]],\n",
       " \n",
       "         ...,\n",
       " \n",
       "         [[4332.8198, 3984.1001, 4271.2798,  ..., 4289.2300, 4614.8701,\n",
       "           4384.1001],\n",
       "          [4344.6201, 3992.3101, 4266.6699,  ..., 4291.7900, 4617.4399,\n",
       "           4387.6899],\n",
       "          [4341.0298, 3983.5901, 4266.6699,  ..., 4289.2300, 4614.3599,\n",
       "           4378.9702],\n",
       "          ...,\n",
       "          [4345.1299, 3996.9199, 4287.1802,  ..., 4305.6401, 4635.8999,\n",
       "           4406.6699],\n",
       "          [4348.7202, 4003.5901, 4285.6401,  ..., 4300.5098, 4631.2798,\n",
       "           4401.0298],\n",
       "          [4345.6401, 4003.5901, 4279.4902,  ..., 4289.2300, 4624.6201,\n",
       "           4395.8999]],\n",
       " \n",
       "         [[4274.3599, 4024.6201, 4244.1001,  ..., 4269.2300, 4569.7402,\n",
       "           4326.1499],\n",
       "          [4276.4102, 4027.1799, 4247.1802,  ..., 4273.8501, 4576.9199,\n",
       "           4330.7700],\n",
       "          [4274.3599, 4028.7200, 4248.2100,  ..., 4276.9199, 4577.9502,\n",
       "           4326.1499],\n",
       "          ...,\n",
       "          [4283.0801, 4028.7200, 4248.2100,  ..., 4274.3599, 4587.6899,\n",
       "           4328.7202],\n",
       "          [4270.7700, 4019.4900, 4239.4902,  ..., 4264.1001, 4577.4399,\n",
       "           4322.0498],\n",
       "          [4272.3101, 4017.4399, 4233.8501,  ..., 4259.4902, 4564.6201,\n",
       "           4317.9502]],\n",
       " \n",
       "         [[4319.4902, 4056.9199, 4295.8999,  ..., 4302.0498, 4615.8999,\n",
       "           4368.7202],\n",
       "          [4315.8999, 4054.3601, 4291.2798,  ..., 4298.4600, 4612.3101,\n",
       "           4364.1001],\n",
       "          [4305.1299, 4048.7200, 4282.0498,  ..., 4293.3301, 4608.2100,\n",
       "           4354.3599],\n",
       "          ...,\n",
       "          [4288.7202, 4032.3101, 4274.8701,  ..., 4274.3599, 4590.2598,\n",
       "           4335.3799],\n",
       "          [4286.6699, 4030.2600, 4267.1802,  ..., 4271.2798, 4588.2100,\n",
       "           4334.3599],\n",
       "          [4290.7700, 4028.7200, 4260.5098,  ..., 4272.8198, 4588.7202,\n",
       "           4334.3599]]]),\n",
       " tensor([1., 1., 1., 0., 0., 0., 0., 1., 1., 0., 0., 0., 1., 0., 0., 0., 1., 1.,\n",
       "         1., 0., 1., 0., 0., 1., 0., 0., 1., 0., 1., 1., 0., 0.]))"
      ]
     },
     "execution_count": 50,
     "metadata": {},
     "output_type": "execute_result"
    }
   ],
   "source": [
    "batch"
   ]
  },
  {
   "cell_type": "markdown",
   "metadata": {},
   "source": [
    "Another way of using the data is padding the data if the window size is too big. In the PaddedDataIterator the data is padded if the sequence is too short. For this reason we can use a larger window size than the size of the shortest observation. The padded data iterator also has an extra argument, min_nr_lines which specifies how many items there should at least be in an observation, if this condition does not equal to true, the previous window will be taken. "
   ]
  },
  {
   "cell_type": "code",
   "execution_count": 51,
   "metadata": {},
   "outputs": [
    {
     "data": {
      "text/plain": [
       "torch.Size([32, 40, 14])"
      ]
     },
     "execution_count": 51,
     "metadata": {},
     "output_type": "execute_result"
    }
   ],
   "source": [
    "loaderPadded = dataloader.PaddedDataIterator(dataset = dataset, window_size=40, batchsize=32, min_nr_lines= 5)\n",
    "iterator = iter(loaderPadded)\n",
    "batch = next(loaderPadded)\n",
    "batch = next(loaderPadded)\n",
    "\n",
    "batch[0].shape"
   ]
  },
  {
   "cell_type": "code",
   "execution_count": 39,
   "metadata": {},
   "outputs": [
    {
     "data": {
      "text/plain": [
       "(tensor([[[4299.4902, 3995.8999, 4260.0000,  ..., 4281.0298, 4583.0801,\n",
       "           4349.7402],\n",
       "          [4300.0000, 3995.3799, 4266.1499,  ..., 4285.1299, 4587.1802,\n",
       "           4351.7900],\n",
       "          [4299.4902, 3993.8501, 4265.6401,  ..., 4286.6699, 4587.6899,\n",
       "           4349.7402],\n",
       "          ...,\n",
       "          [   0.0000,    0.0000,    0.0000,  ...,    0.0000,    0.0000,\n",
       "              0.0000],\n",
       "          [   0.0000,    0.0000,    0.0000,  ...,    0.0000,    0.0000,\n",
       "              0.0000],\n",
       "          [   0.0000,    0.0000,    0.0000,  ...,    0.0000,    0.0000,\n",
       "              0.0000]],\n",
       " \n",
       "         [[4296.9199, 3991.7900, 4264.1001,  ..., 4283.5898, 4613.3301,\n",
       "           4364.6201],\n",
       "          [4297.9502, 3992.8201, 4266.6699,  ..., 4280.0000, 4617.9502,\n",
       "           4364.6201],\n",
       "          [4298.9702, 3993.8501, 4265.6401,  ..., 4281.5400, 4621.0298,\n",
       "           4363.0801],\n",
       "          ...,\n",
       "          [4296.9199, 3996.9199, 4269.7402,  ..., 4279.4902, 4610.7700,\n",
       "           4356.9199],\n",
       "          [4299.4902, 4001.0300, 4276.4102,  ..., 4283.0801, 4617.4399,\n",
       "           4357.9502],\n",
       "          [4302.0498, 4003.5901, 4278.9702,  ..., 4287.1802, 4616.9199,\n",
       "           4357.4399]],\n",
       " \n",
       "         [[4296.9199, 4018.4600, 4263.0801,  ..., 4282.0498, 4597.4399,\n",
       "           4369.2300],\n",
       "          [4297.9502, 4021.0300, 4273.8501,  ..., 4289.7402, 4603.0801,\n",
       "           4377.4399],\n",
       "          [4295.8999, 4023.0801, 4281.0298,  ..., 4295.3799, 4606.6699,\n",
       "           4376.9199],\n",
       "          ...,\n",
       "          [4303.0801, 4020.5100, 4284.6201,  ..., 4289.2300, 4597.4399,\n",
       "           4367.1802],\n",
       "          [4292.3101, 4010.7700, 4274.3599,  ..., 4288.7202, 4591.7900,\n",
       "           4359.4902],\n",
       "          [4282.0498, 4004.1001, 4264.1001,  ..., 4280.0000, 4586.1499,\n",
       "           4354.8701]],\n",
       " \n",
       "         ...,\n",
       " \n",
       "         [[4290.2598, 4017.4399, 4249.7402,  ..., 4253.8501, 4577.4399,\n",
       "           4354.3599],\n",
       "          [4288.7202, 4016.9199, 4247.6899,  ..., 4250.7700, 4578.4600,\n",
       "           4350.7700],\n",
       "          [4291.7900, 4020.5100, 4248.2100,  ..., 4251.2798, 4583.0801,\n",
       "           4354.3599],\n",
       "          ...,\n",
       "          [4283.0801, 4007.6899, 4260.5098,  ..., 4246.6699, 4565.6401,\n",
       "           4340.5098],\n",
       "          [4292.3101, 4017.9500, 4265.1299,  ..., 4254.3599, 4577.4399,\n",
       "           4353.8501],\n",
       "          [4295.3799, 4021.5400, 4267.1802,  ..., 4266.6699, 4588.2100,\n",
       "           4359.4902]],\n",
       " \n",
       "         [[4295.3799, 4005.1299, 4265.1299,  ..., 4286.1499, 4578.9702,\n",
       "           4363.5898],\n",
       "          [4295.8999, 4006.1499, 4266.6699,  ..., 4277.9502, 4579.4902,\n",
       "           4358.4600],\n",
       "          [4293.3301, 4004.6201, 4263.5898,  ..., 4271.2798, 4577.4399,\n",
       "           4352.3101],\n",
       "          ...,\n",
       "          [4293.3301, 4005.6399, 4263.0801,  ..., 4278.4600, 4586.6699,\n",
       "           4349.2300],\n",
       "          [4284.6201, 3995.8999, 4253.3301,  ..., 4268.7202, 4577.4399,\n",
       "           4340.0000],\n",
       "          [4280.5098, 3991.2800, 4253.8501,  ..., 4265.6401, 4569.2300,\n",
       "           4336.4102]],\n",
       " \n",
       "         [[4312.3101, 4022.0500, 4278.4600,  ..., 4284.6201, 4612.3101,\n",
       "           4368.2100],\n",
       "          [4304.1001, 4016.9199, 4273.8501,  ..., 4282.5601, 4606.1499,\n",
       "           4364.1001],\n",
       "          [4303.0801, 4016.9199, 4270.7700,  ..., 4276.9199, 4602.0498,\n",
       "           4362.5601],\n",
       "          ...,\n",
       "          [   0.0000,    0.0000,    0.0000,  ...,    0.0000,    0.0000,\n",
       "              0.0000],\n",
       "          [   0.0000,    0.0000,    0.0000,  ...,    0.0000,    0.0000,\n",
       "              0.0000],\n",
       "          [   0.0000,    0.0000,    0.0000,  ...,    0.0000,    0.0000,\n",
       "              0.0000]]]),\n",
       " tensor([1., 0., 0., 0., 1., 0., 0., 0., 0., 0., 0., 0., 1., 0., 1., 1., 1., 0.,\n",
       "         0., 0., 1., 1., 0., 1., 1., 1., 0., 1., 1., 1., 1., 1.]))"
      ]
     },
     "execution_count": 39,
     "metadata": {},
     "output_type": "execute_result"
    }
   ],
   "source": [
    "batch"
   ]
  }
 ],
 "metadata": {
  "kernelspec": {
   "display_name": "Python 3.9.12 ('deep-learning-E14Cnx23-py3.9': venv)",
   "language": "python",
   "name": "python3"
  },
  "language_info": {
   "codemirror_mode": {
    "name": "ipython",
    "version": 3
   },
   "file_extension": ".py",
   "mimetype": "text/x-python",
   "name": "python",
   "nbconvert_exporter": "python",
   "pygments_lexer": "ipython3",
   "version": "3.9.12"
  },
  "orig_nbformat": 4,
  "vscode": {
   "interpreter": {
    "hash": "16b8f312320cd240106b9ea4d318428341e8727b3c7d5fc1f73cfe4a3d9868ce"
   }
  }
 },
 "nbformat": 4,
 "nbformat_minor": 2
}

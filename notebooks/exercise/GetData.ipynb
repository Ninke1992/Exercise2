{
 "cells": [
  {
   "cell_type": "code",
   "execution_count": 1,
   "metadata": {},
   "outputs": [
    {
     "name": "stderr",
     "output_type": "stream",
     "text": [
      "2022-06-14 16:37:31.430709: W tensorflow/stream_executor/platform/default/dso_loader.cc:64] Could not load dynamic library 'libcudart.so.11.0'; dlerror: libcudart.so.11.0: cannot open shared object file: No such file or directory\n",
      "2022-06-14 16:37:31.430753: I tensorflow/stream_executor/cuda/cudart_stub.cc:29] Ignore above cudart dlerror if you do not have a GPU set up on your machine.\n"
     ]
    }
   ],
   "source": [
    "import sys\n",
    "\n",
    "sys.path.insert(0, \"../..\")\n",
    "from pathlib import Path\n",
    "from src.data import dataloader\n",
    "from src.data import make_dataset"
   ]
  },
  {
   "cell_type": "code",
   "execution_count": 2,
   "metadata": {},
   "outputs": [
    {
     "name": "stderr",
     "output_type": "stream",
     "text": [
      "2022-06-14 16:37:34.173 | INFO     | src.data.make_dataset:get_eeg:18 - Data is downloaded to ../../data/raw/datasets/eeg.\n"
     ]
    }
   ],
   "source": [
    "eegPath = make_dataset.get_eeg()"
   ]
  },
  {
   "cell_type": "code",
   "execution_count": 3,
   "metadata": {},
   "outputs": [
    {
     "name": "stdout",
     "output_type": "stream",
     "text": [
      "24\n"
     ]
    }
   ],
   "source": [
    "dataset = dataloader.BaseDataset(datapath = eegPath) #make dataset\n",
    "print(len(dataset))"
   ]
  },
  {
   "cell_type": "code",
   "execution_count": 4,
   "metadata": {},
   "outputs": [
    {
     "data": {
      "text/plain": [
       "torch.Size([188, 14])"
      ]
     },
     "execution_count": 4,
     "metadata": {},
     "output_type": "execute_result"
    }
   ],
   "source": [
    "dataset.__getitem__(0)[0].shape #get shape of 1st item "
   ]
  },
  {
   "cell_type": "markdown",
   "metadata": {},
   "source": [
    "First the BaseDataStreamer is used (this is level one). This iterator automatically changes the window size if its larger than the smallest chunck in BaseDataSet. It also takes another chunck if the chunck does not have enough lines. For these reasons we always have the same shape tensors in one batch. The downside is that we throw away information by doing this."
   ]
  },
  {
   "cell_type": "code",
   "execution_count": 5,
   "metadata": {},
   "outputs": [
    {
     "data": {
      "text/plain": [
       "(torch.Size([32, 10, 14]), torch.Size([32]))"
      ]
     },
     "execution_count": 5,
     "metadata": {},
     "output_type": "execute_result"
    }
   ],
   "source": [
    "loader = dataloader.BaseDataStreamer(dataset = dataset, window_size=10, batchsize=32).stream()\n",
    "x,y = next(loader)\n",
    "x.shape, y.shape\n"
   ]
  },
  {
   "cell_type": "markdown",
   "metadata": {},
   "source": [
    "If trying to use a window size of 21, the BaseDataIterator will tell and set to 21:"
   ]
  },
  {
   "cell_type": "code",
   "execution_count": 6,
   "metadata": {},
   "outputs": [
    {
     "name": "stdout",
     "output_type": "stream",
     "text": [
      "Maximum window length is 21, setting window length to 21.\n",
      "                Use PaddedDataStreamer for bigger window size\n"
     ]
    }
   ],
   "source": [
    "loader = dataloader.BaseDataStreamer(dataset = dataset, window_size=25, batchsize=32).stream()\n",
    "x,y = next(loader)"
   ]
  },
  {
   "cell_type": "code",
   "execution_count": 7,
   "metadata": {},
   "outputs": [
    {
     "data": {
      "text/plain": [
       "tensor([[[4261.0298, 3984.6201, 4246.1499,  ..., 4269.7402, 4582.0498,\n",
       "          4312.8198],\n",
       "         [4257.4399, 3988.2100, 4240.5098,  ..., 4260.0000, 4573.3301,\n",
       "          4306.1499],\n",
       "         [4252.3101, 3984.6201, 4230.7700,  ..., 4257.9502, 4570.2598,\n",
       "          4309.2300],\n",
       "         ...,\n",
       "         [4269.7402, 3986.6699, 4253.3301,  ..., 4275.3799, 4573.3301,\n",
       "          4321.5400],\n",
       "         [4269.7402, 3986.1499, 4250.7700,  ..., 4274.3599, 4577.9502,\n",
       "          4320.5098],\n",
       "         [4272.3101, 3992.3101, 4249.7402,  ..., 4269.2300, 4574.3599,\n",
       "          4320.0000]],\n",
       "\n",
       "        [[4409.7402, 4111.2798, 4290.7700,  ..., 4296.9199, 4632.8198,\n",
       "          4463.0801],\n",
       "         [4432.3101, 4116.4102, 4297.9502,  ..., 4300.0000, 4646.1499,\n",
       "          4474.8701],\n",
       "         [4439.4902, 4124.6201, 4296.9199,  ..., 4292.8198, 4643.0801,\n",
       "          4469.7402],\n",
       "         ...,\n",
       "         [4385.1299, 4089.2300, 4279.4902,  ..., 4288.7202, 4627.1802,\n",
       "          4422.0498],\n",
       "         [4374.3599, 4083.0801, 4280.0000,  ..., 4286.6699, 4618.4600,\n",
       "          4416.4102],\n",
       "         [4362.0498, 4070.2600, 4280.5098,  ..., 4285.1299, 4610.7700,\n",
       "          4400.0000]],\n",
       "\n",
       "        [[4301.0298, 4018.9700, 4250.2598,  ..., 4276.9199, 4598.4600,\n",
       "          4348.2100],\n",
       "         [4305.1299, 4025.6399, 4248.7202,  ..., 4278.4600, 4604.1001,\n",
       "          4354.3599],\n",
       "         [4306.1499, 4028.2100, 4253.3301,  ..., 4278.4600, 4607.1802,\n",
       "          4357.9502],\n",
       "         ...,\n",
       "         [4307.6899, 4024.1001, 4255.8999,  ..., 4282.5601, 4604.1001,\n",
       "          4357.4399],\n",
       "         [4298.9702, 4017.4399, 4249.2300,  ..., 4273.8501, 4599.4902,\n",
       "          4354.8701],\n",
       "         [4297.4399, 4015.3799, 4250.2598,  ..., 4273.8501, 4599.4902,\n",
       "          4361.5400]],\n",
       "\n",
       "        ...,\n",
       "\n",
       "        [[4275.8999, 3958.4600, 4242.0498,  ..., 4260.5098, 4593.8501,\n",
       "          4345.1299],\n",
       "         [4280.5098, 3961.0300, 4249.2300,  ..., 4264.6201, 4592.3101,\n",
       "          4347.1802],\n",
       "         [4282.0498, 3966.1499, 4251.7900,  ..., 4270.7700, 4588.7202,\n",
       "          4342.0498],\n",
       "         ...,\n",
       "         [4281.0298, 3981.5400, 4246.1499,  ..., 4259.4902, 4589.7402,\n",
       "          4343.0801],\n",
       "         [4281.5400, 3984.1001, 4245.1299,  ..., 4256.9199, 4591.2798,\n",
       "          4342.5601],\n",
       "         [4287.1802, 3990.2600, 4253.3301,  ..., 4260.5098, 4589.2300,\n",
       "          4341.0298]],\n",
       "\n",
       "        [[4285.1299, 3994.3601, 4258.9702,  ..., 4263.5898, 4579.4902,\n",
       "          4330.7700],\n",
       "         [4278.4600, 3988.2100, 4256.4102,  ..., 4263.0801, 4577.9502,\n",
       "          4333.3301],\n",
       "         [4271.7900, 3985.1299, 4255.3799,  ..., 4261.0298, 4582.0498,\n",
       "          4330.2598],\n",
       "         ...,\n",
       "         [4265.6401, 3978.4600, 4263.0801,  ..., 4265.6401, 4583.5898,\n",
       "          4326.6699],\n",
       "         [4267.1802, 3983.0801, 4262.5601,  ..., 4267.6899, 4586.6699,\n",
       "          4330.2598],\n",
       "         [4271.7900, 3988.2100, 4262.0498,  ..., 4270.7700, 4591.2798,\n",
       "          4336.4102]],\n",
       "\n",
       "        [[4299.4902, 3995.8999, 4260.0000,  ..., 4281.0298, 4583.0801,\n",
       "          4349.7402],\n",
       "         [4300.0000, 3995.3799, 4266.1499,  ..., 4285.1299, 4587.1802,\n",
       "          4351.7900],\n",
       "         [4299.4902, 3993.8501, 4265.6401,  ..., 4286.6699, 4587.6899,\n",
       "          4349.7402],\n",
       "         ...,\n",
       "         [4292.3101, 3991.7900, 4260.0000,  ..., 4281.0298, 4585.1299,\n",
       "          4337.4399],\n",
       "         [4295.8999, 3991.2800, 4261.5400,  ..., 4280.5098, 4578.4600,\n",
       "          4341.5400],\n",
       "         [4296.4102, 3991.2800, 4260.5098,  ..., 4278.9702, 4578.4600,\n",
       "          4352.3101]]])"
      ]
     },
     "execution_count": 7,
     "metadata": {},
     "output_type": "execute_result"
    }
   ],
   "source": [
    "x"
   ]
  },
  {
   "cell_type": "markdown",
   "metadata": {},
   "source": [
    "Another way of using the data is padding the data if the window size is too big (this is level 2). In the PaddedDataIterator the data is padded if the sequence is too short. For this reason we can use a larger window size than the size of the shortest observation. The padded data iterator also has an extra argument, min_nr_lines which specifies how many items there should at least be in an observation, if this condition does not equal to true, the previous window will be taken. "
   ]
  },
  {
   "cell_type": "code",
   "execution_count": 13,
   "metadata": {},
   "outputs": [
    {
     "data": {
      "text/plain": [
       "(torch.Size([32, 40, 14]), torch.Size([32]))"
      ]
     },
     "execution_count": 13,
     "metadata": {},
     "output_type": "execute_result"
    }
   ],
   "source": [
    "loaderPadded = dataloader.PaddedDataStreamer(dataset = dataset, window_size=40, batchsize=32, min_nr_lines= 5).stream()\n",
    "x,y = next(loaderPadded)\n",
    "x,y = next(loaderPadded)\n",
    "x,y = next(loaderPadded)\n",
    "x,y = next(loaderPadded)\n",
    "x,y = next(loaderPadded)\n",
    "x,y = next(loaderPadded)\n",
    "\n",
    "x.shape, y.shape"
   ]
  },
  {
   "cell_type": "code",
   "execution_count": 10,
   "metadata": {},
   "outputs": [
    {
     "data": {
      "text/plain": [
       "tensor([[[4307.6899, 4021.0300, 4263.0801,  ..., 4274.3599, 4607.6899,\n",
       "          4361.0298],\n",
       "         [4309.7402, 4026.6699, 4265.1299,  ..., 4277.4399, 4614.3599,\n",
       "          4363.5898],\n",
       "         [4300.5098, 4025.1299, 4260.5098,  ..., 4272.8198, 4609.7402,\n",
       "          4352.8198],\n",
       "         ...,\n",
       "         [4306.6699, 4016.9199, 4266.1499,  ..., 4284.1001, 4620.5098,\n",
       "          4382.0498],\n",
       "         [4294.8701, 4007.1799, 4260.0000,  ..., 4280.5098, 4609.2300,\n",
       "          4368.7202],\n",
       "         [4290.2598, 4001.5400, 4250.7700,  ..., 4278.4600, 4598.4600,\n",
       "          4351.2798]],\n",
       "\n",
       "        [[4332.8198, 4018.9700, 4260.0000,  ..., 4281.0298, 4612.8198,\n",
       "          4387.6899],\n",
       "         [4340.0000, 4022.5601, 4261.0298,  ..., 4282.5601, 4615.8999,\n",
       "          4394.8701],\n",
       "         [4341.5400, 4027.6899, 4259.4902,  ..., 4279.4902, 4617.9502,\n",
       "          4398.4600],\n",
       "         ...,\n",
       "         [4420.5098, 4068.7200, 4293.8501,  ..., 4315.3799, 4675.3799,\n",
       "          4460.5098],\n",
       "         [4417.4399, 4069.2300, 4291.2798,  ..., 4311.7900, 4667.1802,\n",
       "          4455.3799],\n",
       "         [4420.0000, 4070.7700, 4295.3799,  ..., 4315.3799, 4671.2798,\n",
       "          4463.5898]],\n",
       "\n",
       "        [[4292.3101, 3974.8701, 4241.0298,  ..., 4286.6699, 4622.5601,\n",
       "          4371.2798],\n",
       "         [4288.2100, 3970.7700, 4244.6201,  ..., 4285.1299, 4616.9199,\n",
       "          4363.5898],\n",
       "         [4279.4902, 3962.5601, 4233.8501,  ..., 4278.9702, 4608.7202,\n",
       "          4355.3799],\n",
       "         ...,\n",
       "         [4279.4902, 3984.6201, 4242.0498,  ..., 4272.3101, 4612.8198,\n",
       "          4356.4102],\n",
       "         [4289.2300, 3989.2300, 4253.3301,  ..., 4282.5601, 4619.4902,\n",
       "          4366.1499],\n",
       "         [4280.5098, 3983.0801, 4248.2100,  ..., 4278.9702, 4612.8198,\n",
       "          4356.4102]],\n",
       "\n",
       "        ...,\n",
       "\n",
       "        [[4312.3101, 4005.1299, 4268.7202,  ..., 4290.7700, 4627.1802,\n",
       "          4368.7202],\n",
       "         [4315.3799, 4003.0801, 4272.3101,  ..., 4295.8999, 4632.8198,\n",
       "          4372.3101],\n",
       "         [4309.7402, 4005.1299, 4269.2300,  ..., 4291.7900, 4632.3101,\n",
       "          4375.3799],\n",
       "         ...,\n",
       "         [4447.1802, 4124.6201, 4277.4399,  ..., 4307.1802, 4649.2300,\n",
       "          4467.6899],\n",
       "         [4454.3599, 4124.1001, 4280.5098,  ..., 4309.7402, 4659.4902,\n",
       "          4477.9502],\n",
       "         [4458.4600, 4138.9702, 4282.0498,  ..., 4312.8198, 4668.2100,\n",
       "          4481.0298]],\n",
       "\n",
       "        [[4329.2300, 4009.2300, 4289.2300,  ..., 4280.5098, 4635.8999,\n",
       "          4393.8501],\n",
       "         [4324.6201, 4004.6201, 4293.8501,  ..., 4279.4902, 4632.8198,\n",
       "          4384.1001],\n",
       "         [4327.6899, 4006.6699, 4295.3799,  ..., 4282.0498, 4628.7202,\n",
       "          4389.2300],\n",
       "         ...,\n",
       "         [4306.1499, 4007.6899, 4253.3301,  ..., 4267.1802, 4622.5601,\n",
       "          4367.1802],\n",
       "         [4297.4399, 3992.8201, 4249.7402,  ..., 4258.9702, 4606.1499,\n",
       "          4363.5898],\n",
       "         [4301.0298, 3994.3601, 4252.8198,  ..., 4260.5098, 4601.0298,\n",
       "          4366.6699]],\n",
       "\n",
       "        [[4312.8198, 4009.2300, 4238.4600,  ..., 4267.6899, 4600.0000,\n",
       "          4380.0000],\n",
       "         [4318.4600, 4012.3101, 4245.6401,  ..., 4271.7900, 4608.2100,\n",
       "          4384.1001],\n",
       "         [4313.3301, 4007.1799, 4248.7202,  ..., 4268.2100, 4602.0498,\n",
       "          4374.8701],\n",
       "         ...,\n",
       "         [4286.1499, 3982.5601, 4245.6401,  ..., 4253.8501, 4579.4902,\n",
       "          4353.8501],\n",
       "         [4301.0298, 3988.2100, 4256.4102,  ..., 4267.1802, 4584.6201,\n",
       "          4367.1802],\n",
       "         [4306.6699, 3983.0801, 4264.1001,  ..., 4276.4102, 4590.2598,\n",
       "          4374.3599]]])"
      ]
     },
     "execution_count": 10,
     "metadata": {},
     "output_type": "execute_result"
    }
   ],
   "source": [
    "x"
   ]
  },
  {
   "cell_type": "code",
   "execution_count": null,
   "metadata": {},
   "outputs": [],
   "source": []
  }
 ],
 "metadata": {
  "kernelspec": {
   "display_name": "Python 3.9.12 ('deep-learning-uOsDUBaT-py3.9': venv)",
   "language": "python",
   "name": "python3"
  },
  "language_info": {
   "codemirror_mode": {
    "name": "ipython",
    "version": 3
   },
   "file_extension": ".py",
   "mimetype": "text/x-python",
   "name": "python",
   "nbconvert_exporter": "python",
   "pygments_lexer": "ipython3",
   "version": "3.9.12"
  },
  "orig_nbformat": 4,
  "vscode": {
   "interpreter": {
    "hash": "d39e47f9745fd50a772d8189239296374a593e1df039ab05de2800f7cb32767c"
   }
  }
 },
 "nbformat": 4,
 "nbformat_minor": 2
}

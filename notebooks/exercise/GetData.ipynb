{
 "cells": [
  {
   "cell_type": "code",
   "execution_count": 1,
   "metadata": {},
   "outputs": [
    {
     "name": "stderr",
     "output_type": "stream",
     "text": [
      "2022-06-13 18:38:39.968011: W tensorflow/stream_executor/platform/default/dso_loader.cc:64] Could not load dynamic library 'libcudart.so.11.0'; dlerror: libcudart.so.11.0: cannot open shared object file: No such file or directory\n",
      "2022-06-13 18:38:39.968076: I tensorflow/stream_executor/cuda/cudart_stub.cc:29] Ignore above cudart dlerror if you do not have a GPU set up on your machine.\n"
     ]
    }
   ],
   "source": [
    "import sys\n",
    "\n",
    "sys.path.insert(0, \"../..\")\n",
    "from pathlib import Path\n",
    "from src.data import dataloader\n",
    "from src.data import make_dataset"
   ]
  },
  {
   "cell_type": "code",
   "execution_count": 2,
   "metadata": {},
   "outputs": [
    {
     "name": "stderr",
     "output_type": "stream",
     "text": [
      "2022-06-13 18:38:43.202 | INFO     | src.data.make_dataset:get_eeg:18 - Data is downloaded to ../../data/raw/datasets/eeg.\n"
     ]
    }
   ],
   "source": [
    "eegPath = make_dataset.get_eeg()"
   ]
  },
  {
   "cell_type": "code",
   "execution_count": 3,
   "metadata": {},
   "outputs": [
    {
     "name": "stdout",
     "output_type": "stream",
     "text": [
      "24\n"
     ]
    }
   ],
   "source": [
    "dataset = dataloader.BaseDataset(datapath = eegPath) #make dataset\n",
    "print(len(dataset))"
   ]
  },
  {
   "cell_type": "code",
   "execution_count": 4,
   "metadata": {},
   "outputs": [
    {
     "data": {
      "text/plain": [
       "torch.Size([188, 14])"
      ]
     },
     "execution_count": 4,
     "metadata": {},
     "output_type": "execute_result"
    }
   ],
   "source": [
    "dataset.__getitem__(0)[0].shape #get shape of 1st item "
   ]
  },
  {
   "cell_type": "markdown",
   "metadata": {},
   "source": [
    "First the BaseDataStreamer is used (this is level one). This iterator automatically changes the window size if its larger than the smallest chunck in BaseDataSet. It also takes another chunck if the chunck does not have enough lines. For these reasons we always have the same shape tensors in one batch. The downside is that we throw away information by doing this."
   ]
  },
  {
   "cell_type": "code",
   "execution_count": 9,
   "metadata": {},
   "outputs": [
    {
     "data": {
      "text/plain": [
       "(torch.Size([32, 10, 14]), torch.Size([32]))"
      ]
     },
     "execution_count": 9,
     "metadata": {},
     "output_type": "execute_result"
    }
   ],
   "source": [
    "loader = dataloader.BaseDataStreamer(dataset = dataset, window_size=10, batchsize=32)\n",
    "x, y = loader.stream()\n",
    "x.shape, y.shape"
   ]
  },
  {
   "cell_type": "markdown",
   "metadata": {},
   "source": [
    "If trying to use a window size of 21, the BaseDataIterator will tell and set to 21:"
   ]
  },
  {
   "cell_type": "code",
   "execution_count": 10,
   "metadata": {},
   "outputs": [
    {
     "name": "stdout",
     "output_type": "stream",
     "text": [
      "Maximum window length is 21, setting window length to 21.\n",
      "                Use PaddedDataStreamer for bigger window size\n"
     ]
    }
   ],
   "source": [
    "loader = dataloader.BaseDataStreamer(dataset = dataset, window_size=25, batchsize=32)\n",
    "x,y = loader.stream()"
   ]
  },
  {
   "cell_type": "code",
   "execution_count": 11,
   "metadata": {},
   "outputs": [
    {
     "data": {
      "text/plain": [
       "tensor([[[4328.7202, 3967.1799, 4260.0000,  ..., 4302.0498, 4680.0000,\n",
       "          4431.7900],\n",
       "         [4335.3799, 3976.4099, 4264.1001,  ..., 4300.0000, 4681.0298,\n",
       "          4429.2300],\n",
       "         [4327.1802, 3971.7900, 4254.8701,  ..., 4296.4102, 4674.8701,\n",
       "          4420.0000],\n",
       "         ...,\n",
       "         [4309.2300, 3964.1001, 4260.0000,  ..., 4289.7402, 4663.5898,\n",
       "          4407.1802],\n",
       "         [4298.4600, 3958.9700, 4250.2598,  ..., 4285.1299, 4663.0801,\n",
       "          4406.1499],\n",
       "         [4295.8999, 3958.9700, 4245.6401,  ..., 4290.7700, 4664.6201,\n",
       "          4409.7402]],\n",
       "\n",
       "        [[4302.5601, 3989.7400, 4266.1499,  ..., 4282.5601, 4608.7202,\n",
       "          4366.6699],\n",
       "         [4302.5601, 3986.6699, 4264.1001,  ..., 4284.1001, 4609.7402,\n",
       "          4370.7700],\n",
       "         [4297.4399, 3986.1499, 4264.1001,  ..., 4285.6401, 4606.1499,\n",
       "          4367.1802],\n",
       "         ...,\n",
       "         [4303.5898, 3987.6899, 4263.5898,  ..., 4289.2300, 4615.8999,\n",
       "          4360.5098],\n",
       "         [4302.0498, 3985.6399, 4261.0298,  ..., 4283.0801, 4607.1802,\n",
       "          4358.4600],\n",
       "         [4300.0000, 3978.4600, 4256.4102,  ..., 4275.8999, 4606.1499,\n",
       "          4357.4399]],\n",
       "\n",
       "        [[4321.0298, 4050.2600, 4273.3301,  ..., 4302.5601, 4634.8701,\n",
       "          4382.0498],\n",
       "         [4320.0000, 4050.7700, 4271.2798,  ..., 4299.4902, 4634.3599,\n",
       "          4378.4600],\n",
       "         [4326.1499, 4048.2100, 4264.6201,  ..., 4298.9702, 4632.8198,\n",
       "          4383.5898],\n",
       "         ...,\n",
       "         [4315.8999, 4043.0801, 4264.6201,  ..., 4298.4600, 4622.0498,\n",
       "          4373.3301],\n",
       "         [4315.3799, 4041.0300, 4263.5898,  ..., 4292.3101, 4621.5400,\n",
       "          4368.2100],\n",
       "         [4312.8198, 4044.1001, 4264.1001,  ..., 4288.2100, 4624.6201,\n",
       "          4373.8501]],\n",
       "\n",
       "        ...,\n",
       "\n",
       "        [[4300.0000, 4008.2100, 4253.3301,  ..., 4272.8198, 4641.5400,\n",
       "          4361.0298],\n",
       "         [4297.9502, 4007.6899, 4263.5898,  ..., 4274.3599, 4635.8999,\n",
       "          4360.0000],\n",
       "         [4297.9502, 4009.7400, 4270.2598,  ..., 4279.4902, 4628.2100,\n",
       "          4357.9502],\n",
       "         ...,\n",
       "         [4326.1499, 4040.0000, 4265.6401,  ..., 4283.0801, 4632.8198,\n",
       "          4377.9502],\n",
       "         [4329.7402, 4042.0500, 4266.1499,  ..., 4277.9502, 4634.3599,\n",
       "          4377.4399],\n",
       "         [4330.2598, 4040.0000, 4271.7900,  ..., 4280.0000, 4630.7700,\n",
       "          4380.5098]],\n",
       "\n",
       "        [[4275.8999, 3984.6201, 4245.6401,  ..., 4273.8501, 4598.4600,\n",
       "          4337.4399],\n",
       "         [4272.8198, 3979.4900, 4248.2100,  ..., 4279.4902, 4594.3599,\n",
       "          4340.0000],\n",
       "         [4270.7700, 3974.8701, 4249.7402,  ..., 4280.5098, 4599.4902,\n",
       "          4342.0498],\n",
       "         ...,\n",
       "         [4282.5601, 3987.6899, 4250.7700,  ..., 4278.4600, 4598.9702,\n",
       "          4348.2100],\n",
       "         [4274.3599, 3980.0000, 4248.7202,  ..., 4275.8999, 4594.8701,\n",
       "          4344.6201],\n",
       "         [4271.7900, 3979.4900, 4250.2598,  ..., 4278.4600, 4598.9702,\n",
       "          4348.7202]],\n",
       "\n",
       "        [[4376.9199, 4047.6899, 4322.0498,  ..., 4323.5898, 4612.3101,\n",
       "          4403.5898],\n",
       "         [4366.6699, 4038.4600, 4310.7700,  ..., 4317.9502, 4607.1802,\n",
       "          4395.8999],\n",
       "         [4362.5601, 4035.3799, 4304.6201,  ..., 4314.8701, 4614.3599,\n",
       "          4394.8701],\n",
       "         ...,\n",
       "         [4367.1802, 4026.1499, 4318.9702,  ..., 4321.5400, 4623.5898,\n",
       "          4396.4102],\n",
       "         [4375.3799, 4030.2600, 4324.1001,  ..., 4325.1299, 4617.9502,\n",
       "          4400.5098],\n",
       "         [4384.1001, 4033.3301, 4332.8198,  ..., 4332.3101, 4626.6699,\n",
       "          4408.7202]]])"
      ]
     },
     "execution_count": 11,
     "metadata": {},
     "output_type": "execute_result"
    }
   ],
   "source": [
    "x"
   ]
  },
  {
   "cell_type": "markdown",
   "metadata": {},
   "source": [
    "Another way of using the data is padding the data if the window size is too big (this is level 2). In the PaddedDataIterator the data is padded if the sequence is too short. For this reason we can use a larger window size than the size of the shortest observation. The padded data iterator also has an extra argument, min_nr_lines which specifies how many items there should at least be in an observation, if this condition does not equal to true, the previous window will be taken. "
   ]
  },
  {
   "cell_type": "code",
   "execution_count": 12,
   "metadata": {},
   "outputs": [
    {
     "data": {
      "text/plain": [
       "(torch.Size([32, 40, 14]), torch.Size([32]))"
      ]
     },
     "execution_count": 12,
     "metadata": {},
     "output_type": "execute_result"
    }
   ],
   "source": [
    "loaderPadded = dataloader.PaddedDataStreamer(dataset = dataset, window_size=40, batchsize=32, min_nr_lines= 5)\n",
    "x,y = loaderPadded.stream()\n",
    "x,y = loaderPadded.stream()\n",
    "\n",
    "x.shape, y.shape"
   ]
  },
  {
   "cell_type": "code",
   "execution_count": 13,
   "metadata": {},
   "outputs": [
    {
     "data": {
      "text/plain": [
       "tensor([[[4299.4902, 3995.8999, 4260.0000,  ..., 4281.0298, 4583.0801,\n",
       "          4349.7402],\n",
       "         [4300.0000, 3995.3799, 4266.1499,  ..., 4285.1299, 4587.1802,\n",
       "          4351.7900],\n",
       "         [4299.4902, 3993.8501, 4265.6401,  ..., 4286.6699, 4587.6899,\n",
       "          4349.7402],\n",
       "         ...,\n",
       "         [   0.0000,    0.0000,    0.0000,  ...,    0.0000,    0.0000,\n",
       "             0.0000],\n",
       "         [   0.0000,    0.0000,    0.0000,  ...,    0.0000,    0.0000,\n",
       "             0.0000],\n",
       "         [   0.0000,    0.0000,    0.0000,  ...,    0.0000,    0.0000,\n",
       "             0.0000]],\n",
       "\n",
       "        [[4312.3101, 4022.0500, 4278.4600,  ..., 4284.6201, 4612.3101,\n",
       "          4368.2100],\n",
       "         [4304.1001, 4016.9199, 4273.8501,  ..., 4282.5601, 4606.1499,\n",
       "          4364.1001],\n",
       "         [4303.0801, 4016.9199, 4270.7700,  ..., 4276.9199, 4602.0498,\n",
       "          4362.5601],\n",
       "         ...,\n",
       "         [   0.0000,    0.0000,    0.0000,  ...,    0.0000,    0.0000,\n",
       "             0.0000],\n",
       "         [   0.0000,    0.0000,    0.0000,  ...,    0.0000,    0.0000,\n",
       "             0.0000],\n",
       "         [   0.0000,    0.0000,    0.0000,  ...,    0.0000,    0.0000,\n",
       "             0.0000]],\n",
       "\n",
       "        [[4297.9502, 4016.9199, 4253.3301,  ..., 4285.1299, 4588.2100,\n",
       "          4342.0498],\n",
       "         [4300.5098, 4016.4099, 4257.4399,  ..., 4280.0000, 4592.8198,\n",
       "          4359.4902],\n",
       "         [4306.1499, 4022.0500, 4258.4600,  ..., 4276.4102, 4596.4102,\n",
       "          4352.8198],\n",
       "         ...,\n",
       "         [4325.6401, 4025.1299, 4263.5898,  ..., 4288.2100, 4601.5400,\n",
       "          4384.1001],\n",
       "         [4326.6699, 4027.1799, 4265.6401,  ..., 4290.7700, 4607.6899,\n",
       "          4377.9502],\n",
       "         [4327.1802, 4024.6201, 4270.7700,  ..., 4288.7202, 4600.5098,\n",
       "          4369.7402]],\n",
       "\n",
       "        ...,\n",
       "\n",
       "        [[4272.8198, 4003.5901, 4257.9502,  ..., 4261.5400, 4573.8501,\n",
       "          4323.0801],\n",
       "         [4267.6899, 4004.1001, 4256.9199,  ..., 4262.5601, 4572.8198,\n",
       "          4322.5601],\n",
       "         [4269.7402, 4006.6699, 4260.0000,  ..., 4268.2100, 4578.9702,\n",
       "          4332.3101],\n",
       "         ...,\n",
       "         [4285.1299, 4007.6899, 4265.6401,  ..., 4271.7900, 4599.4902,\n",
       "          4350.2598],\n",
       "         [4280.0000, 4010.2600, 4266.1499,  ..., 4276.4102, 4598.4600,\n",
       "          4344.1001],\n",
       "         [4281.5400, 4009.2300, 4272.3101,  ..., 4280.5098, 4590.7700,\n",
       "          4346.6699]],\n",
       "\n",
       "        [[4368.2100, 4049.2300, 4294.3599,  ..., 4292.3101, 4625.1299,\n",
       "          4408.2100],\n",
       "         [4363.5898, 4046.1499, 4288.7202,  ..., 4293.8501, 4618.9702,\n",
       "          4401.0298],\n",
       "         [4351.7900, 4039.4900, 4279.4902,  ..., 4293.8501, 4612.8198,\n",
       "          4394.3599],\n",
       "         ...,\n",
       "         [4263.0801, 3972.3101, 4262.5601,  ..., 4266.6699, 4576.9199,\n",
       "          4328.2100],\n",
       "         [4269.2300, 3978.9700, 4263.5898,  ..., 4268.2100, 4581.0298,\n",
       "          4332.3101],\n",
       "         [4265.6401, 3978.4600, 4263.0801,  ..., 4265.6401, 4583.5898,\n",
       "          4326.6699]],\n",
       "\n",
       "        [[4295.3799, 4014.8701, 4248.2100,  ..., 4273.3301, 4594.3599,\n",
       "          4349.7402],\n",
       "         [4293.3301, 4016.4099, 4254.8701,  ..., 4273.8501, 4592.3101,\n",
       "          4349.7402],\n",
       "         [4295.3799, 4015.3799, 4257.9502,  ..., 4271.7900, 4589.7402,\n",
       "          4345.1299],\n",
       "         ...,\n",
       "         [4303.5898, 4017.9500, 4251.2798,  ..., 4286.1499, 4603.5898,\n",
       "          4361.0298],\n",
       "         [4313.3301, 4024.6201, 4262.0498,  ..., 4291.7900, 4612.8198,\n",
       "          4367.1802],\n",
       "         [4312.3101, 4018.4600, 4261.0298,  ..., 4287.6899, 4607.6899,\n",
       "          4357.9502]]])"
      ]
     },
     "execution_count": 13,
     "metadata": {},
     "output_type": "execute_result"
    }
   ],
   "source": [
    "x"
   ]
  },
  {
   "cell_type": "code",
   "execution_count": null,
   "metadata": {},
   "outputs": [],
   "source": []
  }
 ],
 "metadata": {
  "kernelspec": {
   "display_name": "Python 3.9.12 ('deep-learning-E14Cnx23-py3.9': venv)",
   "language": "python",
   "name": "python3"
  },
  "language_info": {
   "codemirror_mode": {
    "name": "ipython",
    "version": 3
   },
   "file_extension": ".py",
   "mimetype": "text/x-python",
   "name": "python",
   "nbconvert_exporter": "python",
   "pygments_lexer": "ipython3",
   "version": "3.9.12"
  },
  "orig_nbformat": 4,
  "vscode": {
   "interpreter": {
    "hash": "16b8f312320cd240106b9ea4d318428341e8727b3c7d5fc1f73cfe4a3d9868ce"
   }
  }
 },
 "nbformat": 4,
 "nbformat_minor": 2
}
